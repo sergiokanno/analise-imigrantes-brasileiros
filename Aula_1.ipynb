{
 "cells": [
  {
   "cell_type": "markdown",
   "metadata": {
    "id": "lGyDSrtf2F8f"
   },
   "source": [
    "# **Aula 1 - Conhecendo a biblioteca Matplotlib**\n"
   ]
  },
  {
   "cell_type": "markdown",
   "metadata": {
    "id": "xEWW2Wfv2vS_"
   },
   "source": [
    "##**Conhecendo os dados**"
   ]
  },
  {
   "cell_type": "markdown",
   "metadata": {
    "id": "V7MNJv1uSvil"
   },
   "source": [
    "### Importando os dados"
   ]
  },
  {
   "cell_type": "code",
   "execution_count": 1,
   "metadata": {
    "id": "mRZKNPhhdgj2"
   },
   "outputs": [],
   "source": [
    "import pandas as pd"
   ]
  },
  {
   "cell_type": "code",
   "execution_count": 2,
   "metadata": {
    "id": "Gfn28OBnV2Fe"
   },
   "outputs": [],
   "source": [
    "df = pd.read_csv('imigrantes_canada.csv')"
   ]
  },
  {
   "cell_type": "code",
   "execution_count": 3,
   "metadata": {
    "colab": {
     "base_uri": "https://localhost:8080/",
     "height": 423
    },
    "executionInfo": {
     "elapsed": 3,
     "status": "ok",
     "timestamp": 1682517946621,
     "user": {
      "displayName": "Valquiria Alencar",
      "userId": "06101258850801001374"
     },
     "user_tz": 180
    },
    "id": "u2ndfZhdV2Hm",
    "outputId": "3100947d-51bf-4269-8cab-4965ed0ca4a1"
   },
   "outputs": [
    {
     "data": {
      "text/html": [
       "<div>\n",
       "<style scoped>\n",
       "    .dataframe tbody tr th:only-of-type {\n",
       "        vertical-align: middle;\n",
       "    }\n",
       "\n",
       "    .dataframe tbody tr th {\n",
       "        vertical-align: top;\n",
       "    }\n",
       "\n",
       "    .dataframe thead th {\n",
       "        text-align: right;\n",
       "    }\n",
       "</style>\n",
       "<table border=\"1\" class=\"dataframe\">\n",
       "  <thead>\n",
       "    <tr style=\"text-align: right;\">\n",
       "      <th></th>\n",
       "      <th>País</th>\n",
       "      <th>Continente</th>\n",
       "      <th>Região</th>\n",
       "      <th>1980</th>\n",
       "      <th>1981</th>\n",
       "      <th>1982</th>\n",
       "      <th>1983</th>\n",
       "      <th>1984</th>\n",
       "      <th>1985</th>\n",
       "      <th>1986</th>\n",
       "      <th>...</th>\n",
       "      <th>2005</th>\n",
       "      <th>2006</th>\n",
       "      <th>2007</th>\n",
       "      <th>2008</th>\n",
       "      <th>2009</th>\n",
       "      <th>2010</th>\n",
       "      <th>2011</th>\n",
       "      <th>2012</th>\n",
       "      <th>2013</th>\n",
       "      <th>Total</th>\n",
       "    </tr>\n",
       "  </thead>\n",
       "  <tbody>\n",
       "    <tr>\n",
       "      <th>0</th>\n",
       "      <td>Afeganistão</td>\n",
       "      <td>Ásia</td>\n",
       "      <td>Sul da Ásia</td>\n",
       "      <td>16</td>\n",
       "      <td>39</td>\n",
       "      <td>39</td>\n",
       "      <td>47</td>\n",
       "      <td>71</td>\n",
       "      <td>340</td>\n",
       "      <td>496</td>\n",
       "      <td>...</td>\n",
       "      <td>3436</td>\n",
       "      <td>3009</td>\n",
       "      <td>2652</td>\n",
       "      <td>2111</td>\n",
       "      <td>1746</td>\n",
       "      <td>1758</td>\n",
       "      <td>2203</td>\n",
       "      <td>2635</td>\n",
       "      <td>2004</td>\n",
       "      <td>58639</td>\n",
       "    </tr>\n",
       "    <tr>\n",
       "      <th>1</th>\n",
       "      <td>Albânia</td>\n",
       "      <td>Europa</td>\n",
       "      <td>Sul da Europa</td>\n",
       "      <td>1</td>\n",
       "      <td>0</td>\n",
       "      <td>0</td>\n",
       "      <td>0</td>\n",
       "      <td>0</td>\n",
       "      <td>0</td>\n",
       "      <td>1</td>\n",
       "      <td>...</td>\n",
       "      <td>1223</td>\n",
       "      <td>856</td>\n",
       "      <td>702</td>\n",
       "      <td>560</td>\n",
       "      <td>716</td>\n",
       "      <td>561</td>\n",
       "      <td>539</td>\n",
       "      <td>620</td>\n",
       "      <td>603</td>\n",
       "      <td>15699</td>\n",
       "    </tr>\n",
       "    <tr>\n",
       "      <th>2</th>\n",
       "      <td>Argélia</td>\n",
       "      <td>África</td>\n",
       "      <td>Norte da África</td>\n",
       "      <td>80</td>\n",
       "      <td>67</td>\n",
       "      <td>71</td>\n",
       "      <td>69</td>\n",
       "      <td>63</td>\n",
       "      <td>44</td>\n",
       "      <td>69</td>\n",
       "      <td>...</td>\n",
       "      <td>3626</td>\n",
       "      <td>4807</td>\n",
       "      <td>3623</td>\n",
       "      <td>4005</td>\n",
       "      <td>5393</td>\n",
       "      <td>4752</td>\n",
       "      <td>4325</td>\n",
       "      <td>3774</td>\n",
       "      <td>4331</td>\n",
       "      <td>69439</td>\n",
       "    </tr>\n",
       "    <tr>\n",
       "      <th>3</th>\n",
       "      <td>Samoa Americana</td>\n",
       "      <td>Oceânia</td>\n",
       "      <td>Polinésia</td>\n",
       "      <td>0</td>\n",
       "      <td>1</td>\n",
       "      <td>0</td>\n",
       "      <td>0</td>\n",
       "      <td>0</td>\n",
       "      <td>0</td>\n",
       "      <td>0</td>\n",
       "      <td>...</td>\n",
       "      <td>0</td>\n",
       "      <td>1</td>\n",
       "      <td>0</td>\n",
       "      <td>0</td>\n",
       "      <td>0</td>\n",
       "      <td>0</td>\n",
       "      <td>0</td>\n",
       "      <td>0</td>\n",
       "      <td>0</td>\n",
       "      <td>6</td>\n",
       "    </tr>\n",
       "    <tr>\n",
       "      <th>4</th>\n",
       "      <td>Andorra</td>\n",
       "      <td>Europa</td>\n",
       "      <td>Sul da Europa</td>\n",
       "      <td>0</td>\n",
       "      <td>0</td>\n",
       "      <td>0</td>\n",
       "      <td>0</td>\n",
       "      <td>0</td>\n",
       "      <td>0</td>\n",
       "      <td>2</td>\n",
       "      <td>...</td>\n",
       "      <td>0</td>\n",
       "      <td>1</td>\n",
       "      <td>1</td>\n",
       "      <td>0</td>\n",
       "      <td>0</td>\n",
       "      <td>0</td>\n",
       "      <td>0</td>\n",
       "      <td>1</td>\n",
       "      <td>1</td>\n",
       "      <td>15</td>\n",
       "    </tr>\n",
       "    <tr>\n",
       "      <th>...</th>\n",
       "      <td>...</td>\n",
       "      <td>...</td>\n",
       "      <td>...</td>\n",
       "      <td>...</td>\n",
       "      <td>...</td>\n",
       "      <td>...</td>\n",
       "      <td>...</td>\n",
       "      <td>...</td>\n",
       "      <td>...</td>\n",
       "      <td>...</td>\n",
       "      <td>...</td>\n",
       "      <td>...</td>\n",
       "      <td>...</td>\n",
       "      <td>...</td>\n",
       "      <td>...</td>\n",
       "      <td>...</td>\n",
       "      <td>...</td>\n",
       "      <td>...</td>\n",
       "      <td>...</td>\n",
       "      <td>...</td>\n",
       "      <td>...</td>\n",
       "    </tr>\n",
       "    <tr>\n",
       "      <th>190</th>\n",
       "      <td>Vietnã</td>\n",
       "      <td>Ásia</td>\n",
       "      <td>Sudeste Asiático</td>\n",
       "      <td>1191</td>\n",
       "      <td>1829</td>\n",
       "      <td>2162</td>\n",
       "      <td>3404</td>\n",
       "      <td>7583</td>\n",
       "      <td>5907</td>\n",
       "      <td>2741</td>\n",
       "      <td>...</td>\n",
       "      <td>1852</td>\n",
       "      <td>3153</td>\n",
       "      <td>2574</td>\n",
       "      <td>1784</td>\n",
       "      <td>2171</td>\n",
       "      <td>1942</td>\n",
       "      <td>1723</td>\n",
       "      <td>1731</td>\n",
       "      <td>2112</td>\n",
       "      <td>97146</td>\n",
       "    </tr>\n",
       "    <tr>\n",
       "      <th>191</th>\n",
       "      <td>Saara Ocidental</td>\n",
       "      <td>África</td>\n",
       "      <td>Norte da África</td>\n",
       "      <td>0</td>\n",
       "      <td>0</td>\n",
       "      <td>0</td>\n",
       "      <td>0</td>\n",
       "      <td>0</td>\n",
       "      <td>0</td>\n",
       "      <td>0</td>\n",
       "      <td>...</td>\n",
       "      <td>0</td>\n",
       "      <td>1</td>\n",
       "      <td>0</td>\n",
       "      <td>0</td>\n",
       "      <td>0</td>\n",
       "      <td>0</td>\n",
       "      <td>0</td>\n",
       "      <td>0</td>\n",
       "      <td>0</td>\n",
       "      <td>2</td>\n",
       "    </tr>\n",
       "    <tr>\n",
       "      <th>192</th>\n",
       "      <td>Iémen</td>\n",
       "      <td>Ásia</td>\n",
       "      <td>Ásia Ocidental</td>\n",
       "      <td>1</td>\n",
       "      <td>2</td>\n",
       "      <td>1</td>\n",
       "      <td>6</td>\n",
       "      <td>0</td>\n",
       "      <td>18</td>\n",
       "      <td>7</td>\n",
       "      <td>...</td>\n",
       "      <td>161</td>\n",
       "      <td>140</td>\n",
       "      <td>122</td>\n",
       "      <td>133</td>\n",
       "      <td>128</td>\n",
       "      <td>211</td>\n",
       "      <td>160</td>\n",
       "      <td>174</td>\n",
       "      <td>217</td>\n",
       "      <td>2985</td>\n",
       "    </tr>\n",
       "    <tr>\n",
       "      <th>193</th>\n",
       "      <td>Zâmbia</td>\n",
       "      <td>África</td>\n",
       "      <td>África Oriental</td>\n",
       "      <td>11</td>\n",
       "      <td>17</td>\n",
       "      <td>11</td>\n",
       "      <td>7</td>\n",
       "      <td>16</td>\n",
       "      <td>9</td>\n",
       "      <td>15</td>\n",
       "      <td>...</td>\n",
       "      <td>91</td>\n",
       "      <td>77</td>\n",
       "      <td>71</td>\n",
       "      <td>64</td>\n",
       "      <td>60</td>\n",
       "      <td>102</td>\n",
       "      <td>69</td>\n",
       "      <td>46</td>\n",
       "      <td>59</td>\n",
       "      <td>1677</td>\n",
       "    </tr>\n",
       "    <tr>\n",
       "      <th>194</th>\n",
       "      <td>Zimbábue</td>\n",
       "      <td>África</td>\n",
       "      <td>África Oriental</td>\n",
       "      <td>72</td>\n",
       "      <td>114</td>\n",
       "      <td>102</td>\n",
       "      <td>44</td>\n",
       "      <td>32</td>\n",
       "      <td>29</td>\n",
       "      <td>43</td>\n",
       "      <td>...</td>\n",
       "      <td>615</td>\n",
       "      <td>454</td>\n",
       "      <td>663</td>\n",
       "      <td>611</td>\n",
       "      <td>508</td>\n",
       "      <td>494</td>\n",
       "      <td>434</td>\n",
       "      <td>437</td>\n",
       "      <td>407</td>\n",
       "      <td>8598</td>\n",
       "    </tr>\n",
       "  </tbody>\n",
       "</table>\n",
       "<p>195 rows × 38 columns</p>\n",
       "</div>"
      ],
      "text/plain": [
       "                País Continente            Região  1980  1981  1982  1983  \\\n",
       "0        Afeganistão       Ásia       Sul da Ásia    16    39    39    47   \n",
       "1            Albânia     Europa     Sul da Europa     1     0     0     0   \n",
       "2            Argélia     África   Norte da África    80    67    71    69   \n",
       "3    Samoa Americana    Oceânia         Polinésia     0     1     0     0   \n",
       "4            Andorra     Europa     Sul da Europa     0     0     0     0   \n",
       "..               ...        ...               ...   ...   ...   ...   ...   \n",
       "190           Vietnã       Ásia  Sudeste Asiático  1191  1829  2162  3404   \n",
       "191  Saara Ocidental     África   Norte da África     0     0     0     0   \n",
       "192            Iémen       Ásia    Ásia Ocidental     1     2     1     6   \n",
       "193           Zâmbia     África   África Oriental    11    17    11     7   \n",
       "194         Zimbábue     África   África Oriental    72   114   102    44   \n",
       "\n",
       "     1984  1985  1986  ...  2005  2006  2007  2008  2009  2010  2011  2012  \\\n",
       "0      71   340   496  ...  3436  3009  2652  2111  1746  1758  2203  2635   \n",
       "1       0     0     1  ...  1223   856   702   560   716   561   539   620   \n",
       "2      63    44    69  ...  3626  4807  3623  4005  5393  4752  4325  3774   \n",
       "3       0     0     0  ...     0     1     0     0     0     0     0     0   \n",
       "4       0     0     2  ...     0     1     1     0     0     0     0     1   \n",
       "..    ...   ...   ...  ...   ...   ...   ...   ...   ...   ...   ...   ...   \n",
       "190  7583  5907  2741  ...  1852  3153  2574  1784  2171  1942  1723  1731   \n",
       "191     0     0     0  ...     0     1     0     0     0     0     0     0   \n",
       "192     0    18     7  ...   161   140   122   133   128   211   160   174   \n",
       "193    16     9    15  ...    91    77    71    64    60   102    69    46   \n",
       "194    32    29    43  ...   615   454   663   611   508   494   434   437   \n",
       "\n",
       "     2013  Total  \n",
       "0    2004  58639  \n",
       "1     603  15699  \n",
       "2    4331  69439  \n",
       "3       0      6  \n",
       "4       1     15  \n",
       "..    ...    ...  \n",
       "190  2112  97146  \n",
       "191     0      2  \n",
       "192   217   2985  \n",
       "193    59   1677  \n",
       "194   407   8598  \n",
       "\n",
       "[195 rows x 38 columns]"
      ]
     },
     "execution_count": 3,
     "metadata": {},
     "output_type": "execute_result"
    }
   ],
   "source": [
    "df"
   ]
  },
  {
   "cell_type": "code",
   "execution_count": 4,
   "metadata": {
    "colab": {
     "base_uri": "https://localhost:8080/"
    },
    "executionInfo": {
     "elapsed": 357,
     "status": "ok",
     "timestamp": 1682517950546,
     "user": {
      "displayName": "Valquiria Alencar",
      "userId": "06101258850801001374"
     },
     "user_tz": 180
    },
    "id": "nhbO9Ryvmwsl",
    "outputId": "dc8cefa8-ac3b-4ec8-b3db-4bdc66b48500"
   },
   "outputs": [
    {
     "name": "stdout",
     "output_type": "stream",
     "text": [
      "<class 'pandas.core.frame.DataFrame'>\n",
      "RangeIndex: 195 entries, 0 to 194\n",
      "Data columns (total 38 columns):\n",
      " #   Column      Non-Null Count  Dtype \n",
      "---  ------      --------------  ----- \n",
      " 0   País        195 non-null    object\n",
      " 1   Continente  195 non-null    object\n",
      " 2   Região      195 non-null    object\n",
      " 3   1980        195 non-null    int64 \n",
      " 4   1981        195 non-null    int64 \n",
      " 5   1982        195 non-null    int64 \n",
      " 6   1983        195 non-null    int64 \n",
      " 7   1984        195 non-null    int64 \n",
      " 8   1985        195 non-null    int64 \n",
      " 9   1986        195 non-null    int64 \n",
      " 10  1987        195 non-null    int64 \n",
      " 11  1988        195 non-null    int64 \n",
      " 12  1989        195 non-null    int64 \n",
      " 13  1990        195 non-null    int64 \n",
      " 14  1991        195 non-null    int64 \n",
      " 15  1992        195 non-null    int64 \n",
      " 16  1993        195 non-null    int64 \n",
      " 17  1994        195 non-null    int64 \n",
      " 18  1995        195 non-null    int64 \n",
      " 19  1996        195 non-null    int64 \n",
      " 20  1997        195 non-null    int64 \n",
      " 21  1998        195 non-null    int64 \n",
      " 22  1999        195 non-null    int64 \n",
      " 23  2000        195 non-null    int64 \n",
      " 24  2001        195 non-null    int64 \n",
      " 25  2002        195 non-null    int64 \n",
      " 26  2003        195 non-null    int64 \n",
      " 27  2004        195 non-null    int64 \n",
      " 28  2005        195 non-null    int64 \n",
      " 29  2006        195 non-null    int64 \n",
      " 30  2007        195 non-null    int64 \n",
      " 31  2008        195 non-null    int64 \n",
      " 32  2009        195 non-null    int64 \n",
      " 33  2010        195 non-null    int64 \n",
      " 34  2011        195 non-null    int64 \n",
      " 35  2012        195 non-null    int64 \n",
      " 36  2013        195 non-null    int64 \n",
      " 37  Total       195 non-null    int64 \n",
      "dtypes: int64(35), object(3)\n",
      "memory usage: 58.0+ KB\n"
     ]
    }
   ],
   "source": [
    "df.info()"
   ]
  },
  {
   "cell_type": "markdown",
   "metadata": {
    "id": "WKpx07VQSyPj"
   },
   "source": [
    "###Realizando alguns tratamentos"
   ]
  },
  {
   "cell_type": "code",
   "execution_count": 5,
   "metadata": {
    "id": "TFISHZBiV2Kg"
   },
   "outputs": [],
   "source": [
    "df.set_index('País', inplace=True)"
   ]
  },
  {
   "cell_type": "code",
   "execution_count": 6,
   "metadata": {
    "id": "pdhQcvffksok"
   },
   "outputs": [],
   "source": [
    "anos = list(map(str, range(1980, 2014)))"
   ]
  },
  {
   "cell_type": "code",
   "execution_count": 7,
   "metadata": {
    "colab": {
     "base_uri": "https://localhost:8080/"
    },
    "executionInfo": {
     "elapsed": 2,
     "status": "ok",
     "timestamp": 1682517959941,
     "user": {
      "displayName": "Valquiria Alencar",
      "userId": "06101258850801001374"
     },
     "user_tz": 180
    },
    "id": "XXEVSpDwksrC",
    "outputId": "57c74a91-dc6b-4215-adbe-58ba3c76d61e"
   },
   "outputs": [
    {
     "data": {
      "text/plain": [
       "['1980',\n",
       " '1981',\n",
       " '1982',\n",
       " '1983',\n",
       " '1984',\n",
       " '1985',\n",
       " '1986',\n",
       " '1987',\n",
       " '1988',\n",
       " '1989',\n",
       " '1990',\n",
       " '1991',\n",
       " '1992',\n",
       " '1993',\n",
       " '1994',\n",
       " '1995',\n",
       " '1996',\n",
       " '1997',\n",
       " '1998',\n",
       " '1999',\n",
       " '2000',\n",
       " '2001',\n",
       " '2002',\n",
       " '2003',\n",
       " '2004',\n",
       " '2005',\n",
       " '2006',\n",
       " '2007',\n",
       " '2008',\n",
       " '2009',\n",
       " '2010',\n",
       " '2011',\n",
       " '2012',\n",
       " '2013']"
      ]
     },
     "execution_count": 7,
     "metadata": {},
     "output_type": "execute_result"
    }
   ],
   "source": [
    "anos"
   ]
  },
  {
   "cell_type": "markdown",
   "metadata": {
    "id": "rrpKsger4InS"
   },
   "source": [
    "### Extraindo a série de dados para o Brasil"
   ]
  },
  {
   "cell_type": "code",
   "execution_count": 8,
   "metadata": {
    "id": "p_KGLWnNkstL"
   },
   "outputs": [],
   "source": [
    "brasil = df.loc['Brasil', anos]"
   ]
  },
  {
   "cell_type": "code",
   "execution_count": 9,
   "metadata": {
    "colab": {
     "base_uri": "https://localhost:8080/"
    },
    "executionInfo": {
     "elapsed": 3,
     "status": "ok",
     "timestamp": 1682517967816,
     "user": {
      "displayName": "Valquiria Alencar",
      "userId": "06101258850801001374"
     },
     "user_tz": 180
    },
    "id": "Y7bydwapstIp",
    "outputId": "38b2b79a-41c6-44aa-e25c-4e5200a8fc17"
   },
   "outputs": [
    {
     "data": {
      "text/plain": [
       "1980     211\n",
       "1981     220\n",
       "1982     192\n",
       "1983     139\n",
       "1984     145\n",
       "1985     130\n",
       "1986     205\n",
       "1987     244\n",
       "1988     394\n",
       "1989     650\n",
       "1990     650\n",
       "1991     877\n",
       "1992    1066\n",
       "1993     866\n",
       "1994     566\n",
       "1995     572\n",
       "1996     586\n",
       "1997     591\n",
       "1998     531\n",
       "1999     626\n",
       "2000     845\n",
       "2001     847\n",
       "2002     745\n",
       "2003     839\n",
       "2004     917\n",
       "2005     969\n",
       "2006    1181\n",
       "2007    1746\n",
       "2008    2138\n",
       "2009    2509\n",
       "2010    2598\n",
       "2011    1508\n",
       "2012    1642\n",
       "2013    1714\n",
       "Name: Brasil, dtype: object"
      ]
     },
     "execution_count": 9,
     "metadata": {},
     "output_type": "execute_result"
    }
   ],
   "source": [
    "brasil"
   ]
  },
  {
   "cell_type": "code",
   "execution_count": 10,
   "metadata": {
    "id": "7OebBdiBwqz0"
   },
   "outputs": [],
   "source": [
    "brasil_dict = {'ano': brasil.index.tolist(), 'imigrantes': brasil.values.tolist()}\n",
    "dados_brasil = pd.DataFrame(brasil_dict)"
   ]
  },
  {
   "cell_type": "code",
   "execution_count": 11,
   "metadata": {
    "colab": {
     "base_uri": "https://localhost:8080/",
     "height": 1000
    },
    "executionInfo": {
     "elapsed": 3,
     "status": "ok",
     "timestamp": 1682517974215,
     "user": {
      "displayName": "Valquiria Alencar",
      "userId": "06101258850801001374"
     },
     "user_tz": 180
    },
    "id": "9HnHZzvHyoNx",
    "outputId": "4fcdd124-9fd3-4f4b-b0e5-a52e3bbd99cd"
   },
   "outputs": [
    {
     "data": {
      "text/html": [
       "<div>\n",
       "<style scoped>\n",
       "    .dataframe tbody tr th:only-of-type {\n",
       "        vertical-align: middle;\n",
       "    }\n",
       "\n",
       "    .dataframe tbody tr th {\n",
       "        vertical-align: top;\n",
       "    }\n",
       "\n",
       "    .dataframe thead th {\n",
       "        text-align: right;\n",
       "    }\n",
       "</style>\n",
       "<table border=\"1\" class=\"dataframe\">\n",
       "  <thead>\n",
       "    <tr style=\"text-align: right;\">\n",
       "      <th></th>\n",
       "      <th>ano</th>\n",
       "      <th>imigrantes</th>\n",
       "    </tr>\n",
       "  </thead>\n",
       "  <tbody>\n",
       "    <tr>\n",
       "      <th>0</th>\n",
       "      <td>1980</td>\n",
       "      <td>211</td>\n",
       "    </tr>\n",
       "    <tr>\n",
       "      <th>1</th>\n",
       "      <td>1981</td>\n",
       "      <td>220</td>\n",
       "    </tr>\n",
       "    <tr>\n",
       "      <th>2</th>\n",
       "      <td>1982</td>\n",
       "      <td>192</td>\n",
       "    </tr>\n",
       "    <tr>\n",
       "      <th>3</th>\n",
       "      <td>1983</td>\n",
       "      <td>139</td>\n",
       "    </tr>\n",
       "    <tr>\n",
       "      <th>4</th>\n",
       "      <td>1984</td>\n",
       "      <td>145</td>\n",
       "    </tr>\n",
       "    <tr>\n",
       "      <th>5</th>\n",
       "      <td>1985</td>\n",
       "      <td>130</td>\n",
       "    </tr>\n",
       "    <tr>\n",
       "      <th>6</th>\n",
       "      <td>1986</td>\n",
       "      <td>205</td>\n",
       "    </tr>\n",
       "    <tr>\n",
       "      <th>7</th>\n",
       "      <td>1987</td>\n",
       "      <td>244</td>\n",
       "    </tr>\n",
       "    <tr>\n",
       "      <th>8</th>\n",
       "      <td>1988</td>\n",
       "      <td>394</td>\n",
       "    </tr>\n",
       "    <tr>\n",
       "      <th>9</th>\n",
       "      <td>1989</td>\n",
       "      <td>650</td>\n",
       "    </tr>\n",
       "    <tr>\n",
       "      <th>10</th>\n",
       "      <td>1990</td>\n",
       "      <td>650</td>\n",
       "    </tr>\n",
       "    <tr>\n",
       "      <th>11</th>\n",
       "      <td>1991</td>\n",
       "      <td>877</td>\n",
       "    </tr>\n",
       "    <tr>\n",
       "      <th>12</th>\n",
       "      <td>1992</td>\n",
       "      <td>1066</td>\n",
       "    </tr>\n",
       "    <tr>\n",
       "      <th>13</th>\n",
       "      <td>1993</td>\n",
       "      <td>866</td>\n",
       "    </tr>\n",
       "    <tr>\n",
       "      <th>14</th>\n",
       "      <td>1994</td>\n",
       "      <td>566</td>\n",
       "    </tr>\n",
       "    <tr>\n",
       "      <th>15</th>\n",
       "      <td>1995</td>\n",
       "      <td>572</td>\n",
       "    </tr>\n",
       "    <tr>\n",
       "      <th>16</th>\n",
       "      <td>1996</td>\n",
       "      <td>586</td>\n",
       "    </tr>\n",
       "    <tr>\n",
       "      <th>17</th>\n",
       "      <td>1997</td>\n",
       "      <td>591</td>\n",
       "    </tr>\n",
       "    <tr>\n",
       "      <th>18</th>\n",
       "      <td>1998</td>\n",
       "      <td>531</td>\n",
       "    </tr>\n",
       "    <tr>\n",
       "      <th>19</th>\n",
       "      <td>1999</td>\n",
       "      <td>626</td>\n",
       "    </tr>\n",
       "    <tr>\n",
       "      <th>20</th>\n",
       "      <td>2000</td>\n",
       "      <td>845</td>\n",
       "    </tr>\n",
       "    <tr>\n",
       "      <th>21</th>\n",
       "      <td>2001</td>\n",
       "      <td>847</td>\n",
       "    </tr>\n",
       "    <tr>\n",
       "      <th>22</th>\n",
       "      <td>2002</td>\n",
       "      <td>745</td>\n",
       "    </tr>\n",
       "    <tr>\n",
       "      <th>23</th>\n",
       "      <td>2003</td>\n",
       "      <td>839</td>\n",
       "    </tr>\n",
       "    <tr>\n",
       "      <th>24</th>\n",
       "      <td>2004</td>\n",
       "      <td>917</td>\n",
       "    </tr>\n",
       "    <tr>\n",
       "      <th>25</th>\n",
       "      <td>2005</td>\n",
       "      <td>969</td>\n",
       "    </tr>\n",
       "    <tr>\n",
       "      <th>26</th>\n",
       "      <td>2006</td>\n",
       "      <td>1181</td>\n",
       "    </tr>\n",
       "    <tr>\n",
       "      <th>27</th>\n",
       "      <td>2007</td>\n",
       "      <td>1746</td>\n",
       "    </tr>\n",
       "    <tr>\n",
       "      <th>28</th>\n",
       "      <td>2008</td>\n",
       "      <td>2138</td>\n",
       "    </tr>\n",
       "    <tr>\n",
       "      <th>29</th>\n",
       "      <td>2009</td>\n",
       "      <td>2509</td>\n",
       "    </tr>\n",
       "    <tr>\n",
       "      <th>30</th>\n",
       "      <td>2010</td>\n",
       "      <td>2598</td>\n",
       "    </tr>\n",
       "    <tr>\n",
       "      <th>31</th>\n",
       "      <td>2011</td>\n",
       "      <td>1508</td>\n",
       "    </tr>\n",
       "    <tr>\n",
       "      <th>32</th>\n",
       "      <td>2012</td>\n",
       "      <td>1642</td>\n",
       "    </tr>\n",
       "    <tr>\n",
       "      <th>33</th>\n",
       "      <td>2013</td>\n",
       "      <td>1714</td>\n",
       "    </tr>\n",
       "  </tbody>\n",
       "</table>\n",
       "</div>"
      ],
      "text/plain": [
       "     ano  imigrantes\n",
       "0   1980         211\n",
       "1   1981         220\n",
       "2   1982         192\n",
       "3   1983         139\n",
       "4   1984         145\n",
       "5   1985         130\n",
       "6   1986         205\n",
       "7   1987         244\n",
       "8   1988         394\n",
       "9   1989         650\n",
       "10  1990         650\n",
       "11  1991         877\n",
       "12  1992        1066\n",
       "13  1993         866\n",
       "14  1994         566\n",
       "15  1995         572\n",
       "16  1996         586\n",
       "17  1997         591\n",
       "18  1998         531\n",
       "19  1999         626\n",
       "20  2000         845\n",
       "21  2001         847\n",
       "22  2002         745\n",
       "23  2003         839\n",
       "24  2004         917\n",
       "25  2005         969\n",
       "26  2006        1181\n",
       "27  2007        1746\n",
       "28  2008        2138\n",
       "29  2009        2509\n",
       "30  2010        2598\n",
       "31  2011        1508\n",
       "32  2012        1642\n",
       "33  2013        1714"
      ]
     },
     "execution_count": 11,
     "metadata": {},
     "output_type": "execute_result"
    }
   ],
   "source": [
    "dados_brasil"
   ]
  },
  {
   "cell_type": "markdown",
   "metadata": {
    "id": "1dY5hdvSV1vW"
   },
   "source": [
    "##**Criando o primeiro gráfico com Matplotlib** \n",
    "\n",
    "> Documentação da biblioteca: https://matplotlib.org/"
   ]
  },
  {
   "cell_type": "code",
   "execution_count": 12,
   "metadata": {
    "id": "Hi_CL_1jjvD7"
   },
   "outputs": [],
   "source": [
    "import matplotlib.pyplot as plt"
   ]
  },
  {
   "cell_type": "code",
   "execution_count": 13,
   "metadata": {
    "colab": {
     "base_uri": "https://localhost:8080/",
     "height": 447
    },
    "executionInfo": {
     "elapsed": 991,
     "status": "ok",
     "timestamp": 1682518013891,
     "user": {
      "displayName": "Valquiria Alencar",
      "userId": "06101258850801001374"
     },
     "user_tz": 180
    },
    "id": "s3_EtAKrWEQX",
    "outputId": "2def35d3-293a-4561-81b8-3b9babd41254"
   },
   "outputs": [
    {
     "data": {
      "text/plain": [
       "[<matplotlib.lines.Line2D at 0x1a1692f0a50>]"
      ]
     },
     "execution_count": 13,
     "metadata": {},
     "output_type": "execute_result"
    },
    {
     "data": {
      "image/png": "[encoded data removed]",
      "text/plain": [
       "<Figure size 640x480 with 1 Axes>"
      ]
     },
     "metadata": {},
     "output_type": "display_data"
    }
   ],
   "source": [
    "plt.plot(dados_brasil['ano'], dados_brasil['imigrantes'])"
   ]
  },
  {
   "cell_type": "markdown",
   "metadata": {
    "id": "z0QbsKoNED0Q"
   },
   "source": [
    "### Escolhendo quais anos aparecerem no eixo X com `plt.xticks`"
   ]
  },
  {
   "cell_type": "code",
   "execution_count": 14,
   "metadata": {
    "colab": {
     "base_uri": "https://localhost:8080/",
     "height": 673
    },
    "executionInfo": {
     "elapsed": 408,
     "status": "ok",
     "timestamp": 1682518018080,
     "user": {
      "displayName": "Valquiria Alencar",
      "userId": "06101258850801001374"
     },
     "user_tz": 180
    },
    "id": "hCdmBdYqDmv6",
    "outputId": "b307c417-bfb9-430b-b8ae-0e7944133b37"
   },
   "outputs": [
    {
     "data": {
      "text/plain": [
       "([<matplotlib.axis.XTick at 0x1a16b516350>,\n",
       "  <matplotlib.axis.XTick at 0x1a16b515bd0>,\n",
       "  <matplotlib.axis.XTick at 0x1a16b55ce10>,\n",
       "  <matplotlib.axis.XTick at 0x1a16b55d590>,\n",
       "  <matplotlib.axis.XTick at 0x1a16b55dd10>,\n",
       "  <matplotlib.axis.XTick at 0x1a16b55e490>,\n",
       "  <matplotlib.axis.XTick at 0x1a16b55ec10>],\n",
       " [Text(0.0, 0, '1980'),\n",
       "  Text(5.0, 0, '1985'),\n",
       "  Text(10.0, 0, '1990'),\n",
       "  Text(15.0, 0, '1995'),\n",
       "  Text(20.0, 0, '2000'),\n",
       "  Text(25.0, 0, '2005'),\n",
       "  Text(30.0, 0, '2010')])"
      ]
     },
     "execution_count": 14,
     "metadata": {},
     "output_type": "execute_result"
    },
    {
     "data": {
      "image/png": "[encoded data removed]",
      "text/plain": [
       "<Figure size 640x480 with 1 Axes>"
      ]
     },
     "metadata": {},
     "output_type": "display_data"
    }
   ],
   "source": [
    "plt.plot(dados_brasil['ano'], dados_brasil['imigrantes'])\n",
    "plt.xticks(['1980', '1985', '1990', '1995', '2000', '2005', '2010'])"
   ]
  },
  {
   "cell_type": "markdown",
   "metadata": {
    "id": "zYko_5XC9IRX"
   },
   "source": [
    "### Alterando os ticks do eixo Y com `plt.yticks`"
   ]
  },
  {
   "cell_type": "code",
   "execution_count": 15,
   "metadata": {
    "colab": {
     "base_uri": "https://localhost:8080/",
     "height": 643
    },
    "executionInfo": {
     "elapsed": 502,
     "status": "ok",
     "timestamp": 1682518023577,
     "user": {
      "displayName": "Valquiria Alencar",
      "userId": "06101258850801001374"
     },
     "user_tz": 180
    },
    "id": "PHRBUxEQ9Hm5",
    "outputId": "c3904ffd-4256-41fd-cd2e-ff5bb6b26d34"
   },
   "outputs": [
    {
     "data": {
      "text/plain": [
       "([<matplotlib.axis.YTick at 0x1a169388410>,\n",
       "  <matplotlib.axis.YTick at 0x1a1693b91d0>,\n",
       "  <matplotlib.axis.YTick at 0x1a1693b9950>,\n",
       "  <matplotlib.axis.YTick at 0x1a1693ba0d0>,\n",
       "  <matplotlib.axis.YTick at 0x1a1693ba850>,\n",
       "  <matplotlib.axis.YTick at 0x1a1693bafd0>],\n",
       " [Text(0, 500, '500'),\n",
       "  Text(0, 1000, '1000'),\n",
       "  Text(0, 1500, '1500'),\n",
       "  Text(0, 2000, '2000'),\n",
       "  Text(0, 2500, '2500'),\n",
       "  Text(0, 3000, '3000')])"
      ]
     },
     "execution_count": 15,
     "metadata": {},
     "output_type": "execute_result"
    },
    {
     "data": {
      "image/png": "[encoded data removed]",
      "text/plain": [
       "<Figure size 640x480 with 1 Axes>"
      ]
     },
     "metadata": {},
     "output_type": "display_data"
    }
   ],
   "source": [
    "plt.plot(dados_brasil['ano'], dados_brasil['imigrantes'])\n",
    "plt.xticks(['1980', '1985', '1990', '1995', '2000', '2005', '2010'])\n",
    "plt.yticks([500, 1000, 1500, 2000, 2500, 3000])"
   ]
  },
  {
   "cell_type": "markdown",
   "metadata": {
    "id": "Q2qnZ9ff4ytz"
   },
   "source": [
    "###Exibindo gráfico com `plt.show()`"
   ]
  },
  {
   "cell_type": "code",
   "execution_count": 16,
   "metadata": {
    "colab": {
     "base_uri": "https://localhost:8080/",
     "height": 430
    },
    "executionInfo": {
     "elapsed": 536,
     "status": "ok",
     "timestamp": 1682518043218,
     "user": {
      "displayName": "Valquiria Alencar",
      "userId": "06101258850801001374"
     },
     "user_tz": 180
    },
    "id": "6bbz-2lTWESn",
    "outputId": "2ceb5d40-1139-412b-b4ec-2362eefc70a0"
   },
   "outputs": [
    {
     "data": {
      "image/png": "[encoded data removed]",
      "text/plain": [
       "<Figure size 640x480 with 1 Axes>"
      ]
     },
     "metadata": {},
     "output_type": "display_data"
    }
   ],
   "source": [
    "plt.plot(dados_brasil['ano'], dados_brasil['imigrantes'])\n",
    "plt.xticks(['1980', '1985', '1990', '1995', '2000', '2005', '2010'])\n",
    "plt.show()"
   ]
  },
  {
   "cell_type": "markdown",
   "metadata": {
    "id": "E8AQ5pXvqiDl"
   },
   "source": [
    "### Modificando o tamanho do gráfico com a função `plt.figure()`"
   ]
  },
  {
   "cell_type": "code",
   "execution_count": 17,
   "metadata": {
    "colab": {
     "base_uri": "https://localhost:8080/",
     "height": 368
    },
    "executionInfo": {
     "elapsed": 391,
     "status": "ok",
     "timestamp": 1682518054639,
     "user": {
      "displayName": "Valquiria Alencar",
      "userId": "06101258850801001374"
     },
     "user_tz": 180
    },
    "id": "25dzyqO4qZSB",
    "outputId": "bb168097-6f23-4f5f-bcfb-f1716d2f8316"
   },
   "outputs": [
    {
     "data": {
      "image/png": "[encoded data removed]",
      "text/plain": [
       "<Figure size 800x400 with 1 Axes>"
      ]
     },
     "metadata": {},
     "output_type": "display_data"
    }
   ],
   "source": [
    "plt.figure(figsize=(8,4))\n",
    "plt.plot(dados_brasil['ano'], dados_brasil['imigrantes'])\n",
    "plt.xticks(['1980', '1985', '1990', '1995', '2000', '2005', '2010'])\n",
    "plt.show()"
   ]
  },
  {
   "cell_type": "markdown",
   "metadata": {
    "id": "qZp2h_nTWEfe"
   },
   "source": [
    "##**Adicionando títulos e rótulos com Matplotlib**"
   ]
  },
  {
   "cell_type": "markdown",
   "metadata": {
    "id": "oBfcPNKW5M2k"
   },
   "source": [
    "### Adicionando título com `plt.title()`\n",
    "\n",
    "\n",
    "\n"
   ]
  },
  {
   "cell_type": "code",
   "execution_count": 18,
   "metadata": {
    "colab": {
     "base_uri": "https://localhost:8080/",
     "height": 391
    },
    "executionInfo": {
     "elapsed": 479,
     "status": "ok",
     "timestamp": 1682518060272,
     "user": {
      "displayName": "Valquiria Alencar",
      "userId": "06101258850801001374"
     },
     "user_tz": 180
    },
    "id": "E2WNRFVAWMBb",
    "outputId": "f04d51f9-c707-4f1e-ba35-912f4afa1c75"
   },
   "outputs": [
    {
     "data": {
      "image/png": "[encoded data removed]",
      "text/plain": [
       "<Figure size 800x400 with 1 Axes>"
      ]
     },
     "metadata": {},
     "output_type": "display_data"
    }
   ],
   "source": [
    "plt.figure(figsize=(8,4))\n",
    "plt.plot(dados_brasil['ano'], dados_brasil['imigrantes'])\n",
    "plt.title('Imigração do Brasil para o Canadá')\n",
    "plt.xticks(['1980', '1985', '1990', '1995', '2000', '2005', '2010'])\n",
    "plt.show()"
   ]
  },
  {
   "cell_type": "markdown",
   "metadata": {
    "id": "168xhkPcoVm1"
   },
   "source": [
    "### Adicionando rótulos aos eixos X e Y usando `plt.xlabel()` e `plt.ylabel()`\n"
   ]
  },
  {
   "cell_type": "code",
   "execution_count": 19,
   "metadata": {
    "colab": {
     "base_uri": "https://localhost:8080/",
     "height": 411
    },
    "executionInfo": {
     "elapsed": 523,
     "status": "ok",
     "timestamp": 1682518072181,
     "user": {
      "displayName": "Valquiria Alencar",
      "userId": "06101258850801001374"
     },
     "user_tz": 180
    },
    "id": "3b8FbL6ykEMC",
    "outputId": "a357b348-aaff-45cd-cf6b-605969d83903"
   },
   "outputs": [
    {
     "data": {
      "image/png": "[encoded data removed]",
      "text/plain": [
       "<Figure size 800x400 with 1 Axes>"
      ]
     },
     "metadata": {},
     "output_type": "display_data"
    }
   ],
   "source": [
    "plt.figure(figsize=(8,4))\n",
    "plt.plot(dados_brasil['ano'], dados_brasil['imigrantes'])\n",
    "plt.title('Imigração do Brasil para o Canadá')\n",
    "plt.xlabel('Ano')\n",
    "plt.ylabel('Número de imigrantes')\n",
    "plt.xticks(['1980', '1985', '1990', '1995', '2000', '2005', '2010'])\n",
    "plt.show()"
   ]
  }
 ],
 "metadata": {
  "colab": {
   "authorship_tag": "ABX9TyMR2AHwgLmfAxYg4zw1RJP7",
   "provenance": [],
   "toc_visible": true
  },
  "kernelspec": {
   "display_name": ".venv",
   "language": "python",
   "name": "python3"
  },
  "language_info": {
   "codemirror_mode": {
    "name": "ipython",
    "version": 3
   },
   "file_extension": ".py",
   "mimetype": "text/x-python",
   "name": "python",
   "nbconvert_exporter": "python",
   "pygments_lexer": "ipython3",
   "version": "3.13.3"
  }
 },
 "nbformat": 4,
 "nbformat_minor": 0
}
